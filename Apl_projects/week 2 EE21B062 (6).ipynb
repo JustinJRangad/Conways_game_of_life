{
 "cells": [
  {
   "cell_type": "markdown",
   "id": "041cab49-1e8b-4748-b189-ddfc511b7132",
   "metadata": {},
   "source": [
    "# Week 2 assignment:\n",
    "# - Name: Justin Jeremiah Rangad\n",
    "# - Roll Number: EE21B062"
   ]
  },
  {
   "cell_type": "markdown",
   "id": "1d077f98-2b48-4624-890f-bbcde75b50f8",
   "metadata": {},
   "source": [
    "# Speed of computation\n",
    "\n",
    "Python, being an interpreted language, tends to be slower than compiled languages like C or Fortran.  Some other languages like Java and Julia tend to use Just-in-Time compilation which can give speedups, but Python also has the problem of being dynamically typed, which eliminates the possibility of many optimizations.\n",
    "\n",
    "The `timeit` library provides functions to estimate the time taken to run a piece of code.  It can automatically run the code multiple times to get better average results, and can be used to identify bottlenecks in your program.  However, it should be used with care as it is not a detailed function-call-level profiler.\n",
    "\n",
    "It can either be `import`ed as a module where you can then explicitly called `timeit.timeit(func)` to estimate time for a function, or you can use the *magic syntax* in Python notebooks as shown below.  "
   ]
  },
  {
   "cell_type": "markdown",
   "id": "58b588ff-6005-4a1e-9329-9189134b7653",
   "metadata": {},
   "source": [
    "import numpy as np\n",
    "x = np.random.rand(10000,1)"
   ]
  },
  {
   "cell_type": "code",
   "execution_count": 3,
   "id": "63c29c38-213f-439e-a7a4-1bc71a6a147b",
   "metadata": {},
   "outputs": [
    {
     "name": "stdout",
     "output_type": "stream",
     "text": [
      "[[0.69637791]\n",
      " [0.2452843 ]\n",
      " [0.33516839]\n",
      " [0.31404717]\n",
      " [0.69928845]\n",
      " [0.95607886]\n",
      " [0.78205829]\n",
      " [0.21076512]\n",
      " [0.47358784]\n",
      " [0.46714348]]\n",
      "[5.17979982]\n",
      "15.7 µs ± 653 ns per loop (mean ± std. dev. of 7 runs, 100,000 loops each)\n"
     ]
    }
   ],
   "source": [
    "import numpy as np\n",
    "def sumarr(x):\n",
    "    sum = 0\n",
    "    for i in range(len(x)): \n",
    "    # for i in x:\n",
    "        sum += x[i]\n",
    "    return sum\n",
    "print(x)\n",
    "print(sumarr(x))\n",
    "%timeit sumarr(x)"
   ]
  },
  {
   "cell_type": "code",
   "execution_count": 5,
   "id": "3685cabc-ea32-40cf-923d-efacf040bba1",
   "metadata": {},
   "outputs": [
    {
     "name": "stdout",
     "output_type": "stream",
     "text": [
      "5.179799822818478\n",
      "4.97 µs ± 428 ns per loop (mean ± std. dev. of 7 runs, 100,000 loops each)\n"
     ]
    }
   ],
   "source": [
    "import numpy as np\n",
    "def npsumarr(x):\n",
    "    return np.sum(x)\n",
    "print(npsumarr(x))\n",
    "%timeit npsumarr(x)"
   ]
  },
  {
   "cell_type": "markdown",
   "id": "45165b44-8c0e-43ca-a3bb-c1da937c5919",
   "metadata": {},
   "source": [
    "# Solving equations by Gaussian elimination\n",
    "\n",
    "Once you have constructed two matrices A and B to represent the system of linear equations \n",
    "$$ Ax = b $$\n",
    "you can then proceed to solve the equations using the process known as Gaussian elimination.\n",
    "\n",
    "It is assumed you already know how the process works, but to refresh your memory, you could use the reference material at [LibreTexts](https://math.libretexts.org/Bookshelves/Algebra/Book%3A_Algebra_and_Trigonometry_(OpenStax)/11%3A_Systems_of_Equations_and_Inequalities/11.06%3A_Solving_Systems_with_Gaussian_Elimination).\n",
    "\n",
    "Basically it involves making the A matrix *triangular* and ultimately into the shape of an identity matrix."
   ]
  },
  {
   "cell_type": "code",
   "execution_count": 26,
   "id": "2985880d-bf0b-465c-85e6-2b9aa2e036ad",
   "metadata": {},
   "outputs": [
    {
     "name": "stdout",
     "output_type": "stream",
     "text": [
      "[[2, 3], [1, -1]]\n",
      "[6, 0.5]\n"
     ]
    }
   ],
   "source": [
    "# Input matrices - the set of equations - 2 variables x1 and x2\n",
    "A = [ [2,3], [1,-1] ]\n",
    "B = [6,1/2]\n",
    "print(A)\n",
    "print(B)"
   ]
  },
  {
   "cell_type": "code",
   "execution_count": 27,
   "id": "57c201b5-1d27-4bfb-9f65-1075568463b3",
   "metadata": {},
   "outputs": [
    {
     "name": "stdout",
     "output_type": "stream",
     "text": [
      "[[1.0, 1.5], [1, -1]]\n",
      "[3.0, 0.5]\n"
     ]
    }
   ],
   "source": [
    "# Normalize row 1\n",
    "norm = A[0][0]\n",
    "for i in range(len(A[0])): A[0][i] /= norm\n",
    "B[0] = B[0]/norm\n",
    "print(A)\n",
    "print(B)"
   ]
  },
  {
   "cell_type": "code",
   "execution_count": 28,
   "id": "02eec543-407f-43ba-b59a-1a9abe46942c",
   "metadata": {},
   "outputs": [
    {
     "name": "stdout",
     "output_type": "stream",
     "text": [
      "[[1.0, 1.5], [0.0, -2.5]]\n",
      "[3.0, -2.5]\n"
     ]
    }
   ],
   "source": [
    "# Eliminate row 2 - A[1] - need to check and ensure div-by-zero etc doesnt happen\n",
    "norm = A[1][0] / A[0][0]\n",
    "for i in range(len(A[1])): A[1][i] = A[1][i] - A[0][i] * norm\n",
    "B[1] = B[1] - B[0] * norm\n",
    "print(A)\n",
    "print(B)"
   ]
  },
  {
   "cell_type": "code",
   "execution_count": 29,
   "id": "e6d17637-4f8d-4b50-b051-f3f95520d5b9",
   "metadata": {},
   "outputs": [
    {
     "name": "stdout",
     "output_type": "stream",
     "text": [
      "[[1.0, 1.5], [-0.0, 1.0]]\n",
      "[3.0, 1.0]\n"
     ]
    }
   ],
   "source": [
    "# Normalize row 2 - B[1] will now contain the solution for x2\n",
    "norm = A[1][1]\n",
    "for i in range(len(A[1])): A[1][i] = A[1][i] / norm\n",
    "B[1] = B[1] / norm\n",
    "print(A)\n",
    "print(B)"
   ]
  },
  {
   "cell_type": "code",
   "execution_count": 30,
   "id": "eae41cdb-dde7-48c4-a93a-3dfa9a9dd3a0",
   "metadata": {},
   "outputs": [
    {
     "name": "stdout",
     "output_type": "stream",
     "text": [
      "[[1.0, 0.0], [-0.0, 1.0]]\n",
      "[1.5, 1.0]\n"
     ]
    }
   ],
   "source": [
    "# Sub back and solve for B[0] <-> x1\n",
    "# This can be seen as eliminating A[0][1]\n",
    "norm = A[0][1] / A[0][0]\n",
    "# note that len(A) will give number of rows\n",
    "for i in range(len(A)): \n",
    "    A[i][1] = A[i][1] - A[i][0] * norm\n",
    "    B[i] = B[i] - A[i][0] * norm\n",
    "print(A)\n",
    "print(B)"
   ]
  },
  {
   "cell_type": "markdown",
   "id": "098cf3af-1055-4131-b7e3-68ee9637939f",
   "metadata": {
    "tags": []
   },
   "source": [
    "## Problems with Gaussian elimination\n",
    "\n",
    "There are several obvious problems with the method outlined here.  These include:\n",
    "\n",
    "- Performance - Python lists are not the most efficient way to store matrices\n",
    "- Zeros: the simple example does not consider a scenario where one of the values on the diagonal may be 0.  Then some shuffling of rows is required.\n",
    "- Numerical stability: there are several *normalization* steps involved, where it is quite possible for the values to blow up out of control if not managed properly.  Usually some kind of pivoting techniques are used to get around these issues."
   ]
  },
  {
   "cell_type": "code",
   "execution_count": 31,
   "id": "2888f5f6-0d58-4252-b15a-cb240ca98c07",
   "metadata": {},
   "outputs": [
    {
     "data": {
      "text/plain": [
       "array([1.5, 1. ])"
      ]
     },
     "execution_count": 31,
     "metadata": {},
     "output_type": "execute_result"
    }
   ],
   "source": [
    "import numpy as np\n",
    "A1 = np.array( [ [2,3], [1,-1] ] )\n",
    "B1 = np.array( [6, 1/2] )\n",
    "np.linalg.solve(A1, B1)"
   ]
  },
  {
   "cell_type": "markdown",
   "id": "986c1d41-e4d1-42aa-a274-227e816cd2d3",
   "metadata": {},
   "source": [
    "# Library functions\n",
    "\n",
    "*Numeric Python* or `numpy` is a library that allows Python code to directly call highly efficient implementations of several linear algebra routines (that have been written and optimized using C or Fortran and generally offer very high performance).\n",
    "\n",
    "Although you can use the same `list` based approach to create matrices, it is better to declare them as the `array` data type:\n",
    "\n",
    "- the numeric `type` (float, int etc.) can be specified for arrays\n",
    "- memory allocation is done more efficiently by assuming they are not meant to be arbitrarily extended or changed"
   ]
  },
  {
   "cell_type": "markdown",
   "id": "140f68a1-0072-4fe3-9dd4-1c946e93b8b5",
   "metadata": {},
   "source": [
    "# SPICE basics\n",
    "\n",
    "Our goal is to implement a SPICE simulator.  In order to do this, we first need to read in the circuit description from a text file.  To start with, we will only consider the basic elements of SPICE: Voltage sources, Current sources, and Resistors.  A typical SPICE netlist would look like this:\n",
    "\n",
    "```spice\n",
    ".circuit\n",
    "R1 GND 1 1  \n",
    "R2 1 2 1    \n",
    "V1 GND 2 dc 2\n",
    ".end\n",
    "```\n",
    "\n",
    "This is basically a *netlist* with 3 *nodes* - one of which is Ground (GND) which is assumed to be have a voltage of 0V.  We can write down Kirchhoff's current law (KCL) equations at each node, to account for current balance.  In addition, we will have some equations that specify the voltages between nodes having a direct voltage source, since there is no resistance there to provide an equation.\n",
    "\n",
    "For the above example, the equations will be\n",
    "\n",
    "$$\n",
    "\\begin{aligned}\n",
    "\\frac{V1-0}{R1} & + & \\frac{V1-V2}{R2} & = & 0 \\\\\n",
    "\\frac{V2-V1}{R2} & + & I1 & = & 0 \\\\\n",
    "V2 & - & 0 & = & 2\n",
    "\\end{aligned}\n",
    "$$\n",
    "\n",
    "which can be written in Matrix form as:\n",
    "\n",
    "$$\n",
    "\\begin{bmatrix}\n",
    "\\frac{1}{R1}+\\frac{1}{R2} & \\frac{-1}{R2} & 0 \\\\\n",
    "\\frac{-1}{R2}   & \\frac{1}{R2}  & 1 \\\\\n",
    "0  & 1  & 0\n",
    "\\end{bmatrix}\n",
    "\\begin{bmatrix}\n",
    "V1 \\\\\n",
    "V2 \\\\\n",
    "I1\n",
    "\\end{bmatrix}\n",
    "=\n",
    "\\begin{bmatrix}\n",
    "0 \\\\\n",
    "0 \\\\\n",
    "2\n",
    "\\end{bmatrix}\n",
    "$$\n",
    "\n",
    "At this point, you have reduced the solving of the SPICE equations to a known problem (linear equation solving) that you already know how to do."
   ]
  },
  {
   "cell_type": "markdown",
   "id": "10067a6c",
   "metadata": {},
   "source": [
    "## AC sources\n",
    "\n",
    "The assumption above is that the system consists only of Voltage or Current sources and resistors.  What about capacitors, inductors, and AC sources?  These can be handled in exactly the same way as long as the circuit is operating at a single frequency.  We then replace the elements with their corresponding *impedance* values, which are frequency dependent complex numbers, but since there is only a single frequency they will still be constants."
   ]
  },
  {
   "cell_type": "markdown",
   "id": "1485d399",
   "metadata": {},
   "source": [
    "## Problem scenarios\n",
    "\n",
    "- Voltage source loops\n",
    "- Current sources at a node\n",
    "- Circuit defined with both DC and AC sources\n",
    "- Syntax errors"
   ]
  },
  {
   "cell_type": "markdown",
   "id": "6d214d59",
   "metadata": {},
   "source": [
    "# String and File manipulation\n",
    "\n",
    "Given a SPICE netlist like the one above, you need to *read* it and construct an internal matrix as described above.  For string manipulation, there are a few helpful utility functions that we can see here."
   ]
  },
  {
   "cell_type": "code",
   "execution_count": 2,
   "id": "0d0f9ed2",
   "metadata": {},
   "outputs": [
    {
     "name": "stdout",
     "output_type": "stream",
     "text": [
      "['.circuit', 'R1 GND 1 1  ', 'R2 1 2 1    ', 'V1 GND 2 dc 2', '.end']\n",
      "Found a resistor\n",
      "Found a resistor\n",
      "Found a voltage source with value:  2.0\n"
     ]
    }
   ],
   "source": [
    "circ = \"\"\".circuit\n",
    "R1 GND 1 1  \n",
    "R2 1 2 1    \n",
    "V1 GND 2 dc 2\n",
    ".end\n",
    "\"\"\".splitlines()\n",
    "print(circ)\n",
    "for l in circ:\n",
    "    if l[0] == 'R':\n",
    "        print(\"Found a resistor\")\n",
    "    elif l[0] == 'V':\n",
    "        print(\"Found a voltage source with value: \", float(l.split()[4]))"
   ]
  },
  {
   "cell_type": "markdown",
   "id": "18d4c59c",
   "metadata": {},
   "source": [
    "## Files\n",
    "\n",
    "You can read from a file using the `readlines()` method of file objects.  One thing to keep in mind is how you open and close file objects.  In particular, it is strongly recommended to use the pattern `with open(\"filename\") as f:` to ensure that the file is closed once you are done with reading it.  "
   ]
  },
  {
   "cell_type": "markdown",
   "id": "5b45ec84",
   "metadata": {},
   "source": [
    "# Assignment\n",
    "\n",
    "The following are the problems you need to solve for this assignment.  You need to submit your code (either as standalone Python script or a Python notebook), a PDF document explaining your solution (either generated from the notebook or a \n",
    "separate LaTeX document), and any supporting files you may have (such as circuit netlists you used for testing your code).\n",
    "\n",
    "- Write a function to find the factorial of N (N being an input) and find the time taken to compute it.  This will obviously depend on where you run the code and which approach you use to implement the factorial.  Explain your observations briefly.\n"
   ]
  },
  {
   "cell_type": "markdown",
   "id": "5a7af350-07a7-4e21-846d-e215debac56f",
   "metadata": {},
   "source": [
    "There are two ways I approached this problem:\n",
    "- Using iteration (Down to Up) approach\n",
    "- Using Recursion (Up to Down) approach"
   ]
  },
  {
   "cell_type": "markdown",
   "id": "1804d810-e413-40ec-9560-35271658dd5a",
   "metadata": {},
   "source": [
    "Using iteration:\n",
    "    We can find the factorial of a number simply by using a for loop and taking the product of the iterating variable i with the previous computed factorial i.e the factorial of i-1.\n",
    "    \n",
    "    The code below implements that:"
   ]
  },
  {
   "cell_type": "code",
   "execution_count": 34,
   "id": "37e393bc",
   "metadata": {},
   "outputs": [
    {
     "name": "stdout",
     "output_type": "stream",
     "text": [
      "30414093201713378043612608166064768844377641568960512000000000000\n",
      "2.35 µs ± 108 ns per loop (mean ± std. dev. of 7 runs, 100,000 loops each)\n"
     ]
    }
   ],
   "source": [
    "def fact_1(n):\n",
    "    a = 1                #a stores the result\n",
    "    for i in range(2, n+1):\n",
    "        a *= i\n",
    "    return a\n",
    "print(fact_1(50))\n",
    "%timeit fact_1(50)"
   ]
  },
  {
   "cell_type": "markdown",
   "id": "32a808d4-7b32-43dd-b501-26acea643266",
   "metadata": {},
   "source": [
    "As we can see the code is pretty efficient and this approach is called the down to up approach\n",
    "of dynamic programming."
   ]
  },
  {
   "cell_type": "markdown",
   "id": "4f59d238-77a7-4de5-8842-9b3154c94018",
   "metadata": {},
   "source": [
    "Using Recursion:\n",
    "    We can also use a recursive method to solve this problem. This method is however is slower as function calls are slower than for loop iterations. We basically imbed the function within its own definition to solve the problem. It is similar to finding the nth fibonnaci number."
   ]
  },
  {
   "cell_type": "code",
   "execution_count": 35,
   "id": "a413e932-6edc-4c75-86cd-4439e5981d99",
   "metadata": {},
   "outputs": [
    {
     "name": "stdout",
     "output_type": "stream",
     "text": [
      "30414093201713378043612608166064768844377641568960512000000000000\n",
      "30414093201713378043612608166064768844377641568960512000000000000\n",
      "5.61 µs ± 162 ns per loop (mean ± std. dev. of 7 runs, 100,000 loops each)\n",
      "371 ns ± 8.11 ns per loop (mean ± std. dev. of 7 runs, 1,000,000 loops each)\n"
     ]
    }
   ],
   "source": [
    "import math\n",
    "def fact_2(n):#Recursive approach\n",
    "    if n == 1:\n",
    "        return 1\n",
    "    return (n*fact_2(n-1)) #Recalling the function\n",
    "print(fact_2(50))\n",
    "print(math.factorial(50))\n",
    "%timeit fact_2(50)\n",
    "%timeit math.factorial(50)"
   ]
  },
  {
   "cell_type": "markdown",
   "id": "b2971172-c107-4975-8463-9b4d13f1fa7f",
   "metadata": {},
   "source": [
    "As we can see the Recursive function is a bit slower than iteration but it pales in comparison to the inbuilt optimized factorial function"
   ]
  },
  {
   "cell_type": "markdown",
   "id": "3b05ff63-2925-43b5-a46b-79e91c154bde",
   "metadata": {},
   "source": [
    "As we can see this approach is a bit slower than the other approach."
   ]
  },
  {
   "cell_type": "markdown",
   "id": "d25bff17-ba61-4520-a127-41af0c00f097",
   "metadata": {},
   "source": [
    "\n",
    "- Write a linear equation solver that will take in matrices $A$ and $b$ as inputs, and return the vector $x$ that solves the equation $Ax=b$.  Your function should catch errors in the inputs and return suitable error messages for different possible problems.\n",
    "  - Time your solver to solve a random $10\\times 10$ system of equations.  Compare the time taken against the `numpy.linalg.solve` function for the same inputs."
   ]
  },
  {
   "cell_type": "markdown",
   "id": "51a3299d-09ec-461d-9178-d29074a1d368",
   "metadata": {},
   "source": [
    "## Gaussian Elimination\n",
    "To solve this problem we must first understand how gaussian elimination works and how to immplement it algorithmically:\n",
    "We need to convert all entries below the main diagonal to be zero. In order to do that we have to perform two operations, Normalisation and subtraction.\n",
    "\n",
    "For a column:\n",
    "1. To normalize we need to divide every entry of a row by the value of the entry of the row just below a diagonal element we then multiply the row with the value of diagonal element above.\n",
    "\n",
    "2. Next we subtract all lower rows with the row of whom we took multiplied the value of the diagonal element\n",
    "\n",
    "3. Incase there are any 0s in the diagonal we must switch rows so that we can compute the values for all variables"
   ]
  },
  {
   "cell_type": "code",
   "execution_count": 2,
   "id": "da0a950c-a60b-47ff-9a49-e21327c0128b",
   "metadata": {},
   "outputs": [
    {
     "name": "stdout",
     "output_type": "stream",
     "text": [
      "[ 1.15605528+0.j  0.80059368-0.j -0.23824074-0.j  0.36833333-0.j\n",
      " -0.1875    -0.j -0.38333333-0.j -0.41666667+0.j  0.70833333-0.j\n",
      "  0.75      -0.j -0.5       +0.j]\n",
      "[ 1.15605528  0.80059368 -0.23824074  0.36833333 -0.1875     -0.38333333\n",
      " -0.41666667  0.70833333  0.75       -0.5       ]\n",
      "127 µs ± 8.07 µs per loop (mean ± std. dev. of 7 runs, 10,000 loops each)\n",
      "19.2 µs ± 511 ns per loop (mean ± std. dev. of 7 runs, 100,000 loops each)\n"
     ]
    }
   ],
   "source": [
    "import numpy as np\n",
    "def gaussian_elemination(A, b):\n",
    "    n = len(b)\n",
    "    if np.linalg.det(A)==0:\n",
    "        return(\"The matrix is singular\")\n",
    "    #Gaussian Elimination:\n",
    "    for k in range(n-1):\n",
    "        if np.abs(A[k, k]) < np.abs(complex(1e-12, 0)):\n",
    "            for l in range(k+1, n):       #Zero diagonal shifting\n",
    "                if (A[l, k]) > complex(1e-12, 0):\n",
    "                    A[[k, l]] = A[[l, k]]\n",
    "                    b[[k, l]] = b[[l, k]]\n",
    "                    break\n",
    "        for i in range(k+1, n):\n",
    "            if np.abs(A[i, k]) == np.abs(complex(0, 0)):\n",
    "                continue\n",
    "            a = A[k, k] / A[i, k] #normalizing factor\n",
    "            for j in range(k, n): #Subtraction to form zeros\n",
    "                A[i, j] = A[k, j]-A[i, j]*a\n",
    "            b[i] = b[k]-b[i]*a\n",
    "    # Back-substitution:\n",
    "    sol = np.ones(n, dtype=np.complex_)\n",
    "    sol[n-1] = b[n-1]/A[n-1, n-1]\n",
    "    for i in range(n-2, -1, -1):\n",
    "        s = 0\n",
    "        for j in range(n-1, i, -1):\n",
    "            s += A[i, j]*sol[j]\n",
    "        sol[i] = (b[i]-s)/A[i, i]\n",
    "    return(sol)\n",
    "A=np.random.randint(0,100,size = (10,10))   #Random 10x10 matrix generator \n",
    "b=np.random.randint(0,100,size=(10))       \n",
    "print(gaussian_elemination(A,b))\n",
    "print(np.linalg.solve(A,b))\n",
    "%timeit gaussian_elemination(A,b)\n",
    "%timeit np.linalg.solve(A,b)"
   ]
  },
  {
   "cell_type": "markdown",
   "id": "cbfe8327-2fec-4063-909e-002f8d8a49ca",
   "metadata": {},
   "source": [
    "As we can see the numpy.linalg.solve function is faster than our code when tested. This is because numpy uses highly optimized C or Fortran code which is why it is much much faster. The above code goes through the gaussian elimination algorithm and returns a result array which contains the values of the variables."
   ]
  },
  {
   "cell_type": "markdown",
   "id": "874ac31d-6bac-4f02-9bca-57df5d2d73a6",
   "metadata": {},
   "source": [
    "- Given a circuit netlist in the form described above, read it in from a file, construct the appropriate matrices, and use the solver you have written above to obtain the voltages and currents in the circuit.  If you find AC circuits hard to handle, first do this for pure DC circuits, but you should be able to handle both voltage and current sources.\n"
   ]
  },
  {
   "cell_type": "markdown",
   "id": "98dc3dda-5d3a-45cd-bb1a-f465f01cd582",
   "metadata": {},
   "source": [
    "## Netlist to Matrix conversion:\n",
    "We can implement the above in various ways the method ive used is known as modified nodal analysis or MNA in short. In MNA every component has a stamp on the matrix, For example a resistor between two nodes 1 and 2 will have a stamp of (1/R) for matrix entries (1,1) and (2,2) and (-1/R) for entries (1,2) and (2,1). This is equivalent to writing the nodal equations for n1 and n2 and using them to form the matrix, we are just using the pattern each component forms in the matrix instead so that our work is easier. Similarly other components have different stamp values and hence we can form our matrices A and b to solve the equation Ax=b. Inorder to do that we pass the matrices A and b as argument to our gaussian elimination solver which we defined earlier. The answer will give us the nodal voltages and current through any independent voltage source. "
   ]
  },
  {
   "cell_type": "code",
   "execution_count": 2,
   "id": "01667f9c-2131-4ca7-a852-c7d4cfd62fb7",
   "metadata": {},
   "outputs": [],
   "source": [
    "import numpy as np\n",
    "def nc(s):\n",
    "    for i in s:\n",
    "        if i.isdigit():\n",
    "            return(i)\n",
    "    return(s)\n",
    "        \n",
    "def parser_netlist(filename):\n",
    "    with open(filename,'r') as f:\n",
    "        ptr1=\"\"\n",
    "        ptr2=\"\"\n",
    "        circ=\"\"\n",
    "        s=0\n",
    "        dc=0\n",
    "        #To make sure no extra things are being read besides the netlist\n",
    "        while \".circuit\" not in ptr1:\n",
    "            ptr1=f.readline()\n",
    "            if \".circuit\" in ptr1:\n",
    "                while \".end\" not in ptr2 :\n",
    "                    ptr2=f.readline()\n",
    "                    circ+=ptr2\n",
    "                ptr2=f.readline()\n",
    "                if \".ac\" in ptr2:\n",
    "                    circ+=ptr2\n",
    "    #To find the frequenct of the circuit\n",
    "    net=list(circ.splitlines())\n",
    "    ac = net[len(net)-1].split()\n",
    "    if  \".ac\" in ac :\n",
    "        s+=1\n",
    "        omega=2*(np.pi)*float(ac[2])\n",
    "    else:\n",
    "        omega=0\n",
    "    ac=net[len(net)-2].split()\n",
    "    if \".ac\" in ac:\n",
    "        s+=1\n",
    "        if s==2:\n",
    "            return(1)\n",
    "    count={}\n",
    "    dim=0\n",
    "    v_count=0\n",
    "    n_count=0\n",
    "    for i in net:\n",
    "        l=i.split()\n",
    "        if \".ac\" in l:\n",
    "            break\n",
    "        if len(l)<4:\n",
    "            continue\n",
    "        if l[0][0]==\"V\":\n",
    "            dim+=1\n",
    "            v_count+=1\n",
    "        if nc(l[1]).isdigit():\n",
    "            if nc(l[1]) not in count:\n",
    "                count[nc(l[1])]=1\n",
    "                dim+=1\n",
    "                n_count+=1\n",
    "        if nc(l[2]).isdigit():\n",
    "            if nc(l[2]) not in count:\n",
    "                count[nc(l[2])]=1\n",
    "                n_count+=1\n",
    "                dim+=1\n",
    "    G=np.zeros((dim,dim),dtype=np.complex_)\n",
    "    b=np.zeros(dim,dtype=np.complex_)\n",
    "    v=dim-1\n",
    "    for l in net:\n",
    "        l=l.split()\n",
    "        if \".end\" in l:\n",
    "            break\n",
    "        l[1]=nc(l[1])\n",
    "        l[2]=nc(l[2])\n",
    "      \n",
    "        #parsing for Resistors\n",
    "        if l[0][0]==\"R\":\n",
    "            y=1/float(l[3])\n",
    "            #case 1: Resistor between two nodes\n",
    "            if \"GND\" not in l:\n",
    "                k=int(l[1])-1\n",
    "                j=int(l[2])-1\n",
    "                G[k,k]=G[k,k]+y\n",
    "                G[k,j]=G[k,j]-y\n",
    "                G[j,j]=G[j,j]+y\n",
    "                G[j,k]=G[j,k]-y\n",
    "            #case 2: Resistor between node and GND\n",
    "            else:\n",
    "                if l[1][0]!=\"G\":\n",
    "                    k=int(l[1])-1\n",
    "                    G[k,k]=G[k,k]+y\n",
    "                else:\n",
    "                    k=int(l[2])-1\n",
    "                    G[k,k]=G[k,k]+y\n",
    "        #parsing for Voltage sources\n",
    "        if l[0][0]==\"V\":\n",
    "            if \"dc\" in l:\n",
    "                dc+=1\n",
    "                if s>=2:\n",
    "                    return(1)\n",
    "                if s and dc >=1:\n",
    "                    return(2)\n",
    "            #if voltage source is between a node and a node:\n",
    "            if \"GND\" not in l:\n",
    "                k=int(l[1])-1\n",
    "                j=int(l[2])-1\n",
    "                G[k,v]=G[k,v]+1\n",
    "                G[v,k]=G[v,k]+1\n",
    "                G[j,v]=G[j,v]-1\n",
    "                G[v,j]=G[v,j]-1\n",
    "            # if voltage source is between node and GND:\n",
    "            else:\n",
    "                if \"GND\"==l[1]:\n",
    "                    j=int(l[2])-1\n",
    "                    G[j,v]=G[j,v]-1\n",
    "                    G[v,j]=G[v,j]-1\n",
    "                else:\n",
    "                    k=int(l[1])-1\n",
    "                    G[k,v]=G[k,v]+1\n",
    "                    G[v,k]=G[v,k]+1\n",
    "            # altering b array\n",
    "            if l[3] == \"ac\":\n",
    "                        phase = float(l[5])\n",
    "                        volt = complex(float(l[4])*np.cos(phase), float(l[4])*np.sin(phase))\n",
    "            else:\n",
    "                        volt=float(l[4])\n",
    "\n",
    "            b[v]=b[v]+volt\n",
    "        #parsing for Current sources\n",
    "        if l[0][0]==\"I\":\n",
    "            if \"GND\" not in l:\n",
    "                k=int(l[1])-1\n",
    "                j=int(l[2])-1\n",
    "                if l[3] == \"ac\":\n",
    "                        phase = float(l[5])\n",
    "                        c = complex(float(l[4])*np.cos(phase),float(l[4])*np.sin(phase))\n",
    "                else:\n",
    "                        c=float(l[4])\n",
    "                b[k]=b[k]+c\n",
    "                b[j]=b[j]-c\n",
    "            else:\n",
    "                if \"GND\"==l[1]:\n",
    "                    j=int(l[2])-1\n",
    "                    if l[3]==\"ac\":\n",
    "                        phase=float(l[5])\n",
    "                        c = complex(float(l[4])*np.cos(phase),\n",
    "                                    float(l[4])*np.sin(phase))\n",
    "                    else:\n",
    "                        c=float(l[4])\n",
    "                    b[j]=b[j]-c\n",
    "                else:\n",
    "                    k=int(l[1])-1\n",
    "                    if l[3] == \"ac\":\n",
    "                        phase = float(l[5])\n",
    "                        c = complex(float(l[4])*np.cos(phase),\n",
    "                                    float(l[4])*np.sin(phase))\n",
    "                    else:\n",
    "                        c = float(l[4])\n",
    "                    b[k]=b[k]+c\n",
    "        #parsing for inductors:\n",
    "        if l[0][0]==\"L\":\n",
    "            imp=1/complex(0,float(l[3])*omega)\n",
    "            #inductor between two nodes\n",
    "            if \"GND\" not in l:\n",
    "                k = int(l[1])-1\n",
    "                j = int(l[2])-1\n",
    "                G[k, k] = G[k, k]+imp\n",
    "                G[k, j] = G[k, j]-imp\n",
    "                G[j, j] = G[j, j]+imp\n",
    "                G[j, k] = G[j, k]-imp\n",
    "            # case 2: inductor between node and GND\n",
    "            else:\n",
    "                if l[1][0]!=\"G\":\n",
    "                    k=int(l[1])-1\n",
    "                    G[k,k]=G[k,k]+imp\n",
    "                else:\n",
    "                    k=int(l[2])-1\n",
    "                    G[k,k]=G[k,k]+imp\n",
    "        #parsing for capacitors:\n",
    "        if l[0][0]==\"C\":\n",
    "            imp =complex(0, float(l[3])*omega)\n",
    "            # capacitor between two nodes\n",
    "            if \"GND\" not in l:\n",
    "                k = int(l[1])-1\n",
    "                j = int(l[2])-1\n",
    "                G[k, k] = G[k, k]+imp\n",
    "                G[k, j] = G[k, j]-imp\n",
    "                G[j, j] = G[j, j]+imp\n",
    "                G[j, k] = G[j, k]-imp\n",
    "            # case 2: capacitor between node and GND\n",
    "            else:\n",
    "                if l[1][0] != \"G\":\n",
    "                    k = int(l[1])-1\n",
    "                    G[k, k] = G[k, k]+imp\n",
    "                else:\n",
    "                    k = int(l[2])-1\n",
    "                    G[k, k] = G[k, k]+imp                \n",
    "    return [G,b,n_count,v_count]"
   ]
  },
  {
   "cell_type": "markdown",
   "id": "1f4d9be2-87b6-4684-bc6f-13774666ce84",
   "metadata": {},
   "source": [
    "## Solving Netlists:\n",
    "Since the parser_netlist function has a file reading capability inbuilt we only need to specify the name of the circuit we wish to simulate for the 7 circuits given please enter your option below in the form cktn (for example: ckt1 or ckt6). The below code handles that request and adds the relevant paths so that the file module can read the file and the function can form the matrix."
   ]
  },
  {
   "cell_type": "code",
   "execution_count": null,
   "id": "0dbc43e9-713e-4557-8157-415b401f35a2",
   "metadata": {},
   "outputs": [],
   "source": [
    "s=input(\"Please enter what ckt you want to solve (Must be in the form cktn):\")\n",
    "s+=\".txt\" \n",
    "l=parser_netlist(s)\n",
    "if l==1:\n",
    "    print(\"ERROR:Two frequencies in the circuit\")\n",
    "elif l==2:\n",
    "    print(\"ERROR:DC and AC source\")\n",
    "else:\n",
    "    sol=gaussian_elemination(l[0],l[1])\n",
    "    for i in range(l[2]+l[3]):\n",
    "        if i<l[2]:\n",
    "            print(f\"The voltage at n{i+1} is: {sol[i]:>54}\")       #string formatting\n",
    "        else:\n",
    "            print(f\"The current across V{i+1} is: {sol[i]:>50}\")"
   ]
  },
  {
   "cell_type": "code",
   "execution_count": null,
   "id": "bdbaa41f-f3bd-4a19-9798-f0aff34167d2",
   "metadata": {},
   "outputs": [],
   "source": []
  }
 ],
 "metadata": {
  "kernelspec": {
   "display_name": "Python 3 (ipykernel)",
   "language": "python",
   "name": "python3"
  },
  "language_info": {
   "codemirror_mode": {
    "name": "ipython",
    "version": 3
   },
   "file_extension": ".py",
   "mimetype": "text/x-python",
   "name": "python",
   "nbconvert_exporter": "python",
   "pygments_lexer": "ipython3",
   "version": "3.9.2"
  },
  "vscode": {
   "interpreter": {
    "hash": "2e6885ebb03c39ed478672232244b1abdbe80d408bad72a08967386e73935c96"
   }
  }
 },
 "nbformat": 4,
 "nbformat_minor": 5
}
